{
 "cells": [
  {
   "cell_type": "code",
   "execution_count": 1,
   "id": "3a07cd18",
   "metadata": {},
   "outputs": [
    {
     "name": "stdout",
     "output_type": "stream",
     "text": [
      "Iteration: 1\n",
      "Error 0.01959999999999997\n",
      "Pred: 0.8600000000000001\n",
      "Delta: -0.1399999999999999\n",
      "Weights: [ 0.1  0.2 -0.1]\n",
      "Weight_Deltas [-1.19  -0.091 -0.168]\n",
      "-----------------------------\n",
      "Iteration: 2\n",
      "Error 0.0013135188062500048\n",
      "Pred: 0.9637574999999999\n",
      "Delta: -0.036242500000000066\n",
      "Weights: [ 0.1119   0.20091 -0.09832]\n",
      "Weight_Deltas [-0.30806125 -0.02355763 -0.043491  ]\n",
      "-----------------------------\n",
      "Iteration: 3\n",
      "Error 8.802712522308206e-05\n",
      "Pred: 0.9906177228125\n",
      "Delta: -0.009382277187499954\n",
      "Weights: [ 0.11498061  0.20114558 -0.09788509]\n",
      "Weight_Deltas [-0.07974936 -0.00609848 -0.01125873]\n",
      "-----------------------------\n"
     ]
    }
   ],
   "source": [
    "import numpy as np\n",
    "\n",
    "\n",
    "def neural_network(weights : np.array, input : np.array):\n",
    "    return input.dot(weights)\n",
    "\n",
    "\n",
    "\n",
    "weights = np.array([0.1, 0.2, -0.1])\n",
    "toes = np.array([8.5, 9.5, 9.9, 9.0])\n",
    "wlrec = np.array([0.65, 0.8, 0.8, 0.9])\n",
    "nfans = np.array([1.2, 1.3, 0.5, 1.0])\n",
    "input = np.array([toes[0], wlrec[0], nfans[0]])\n",
    "answer = np.array([1, 1, 0, 1])\n",
    "true = answer[0]\n",
    "alpha = 0.01\n",
    "for i in range(3):\n",
    "    pred = neural_network(weights, input)\n",
    "    error = (pred - true) ** 2\n",
    "    \n",
    "    delta = pred - true\n",
    "    weight_deltas = delta * input\n",
    "    print(\"Iteration:\", i + 1)\n",
    "    print(\"Error\", error)\n",
    "    print(\"Pred:\", pred)\n",
    "    print(\"Delta:\", delta)\n",
    "    print(\"Weights:\", weights)\n",
    "    print(\"Weight_Deltas\", weight_deltas)\n",
    "    print(\"-----------------------------\")\n",
    "    weights -= weight_deltas * alpha"
   ]
  },
  {
   "cell_type": "code",
   "execution_count": 2,
   "id": "d57f8a09",
   "metadata": {},
   "outputs": [
    {
     "name": "stdout",
     "output_type": "stream",
     "text": [
      "Iteration: 1\n",
      "Error 0.01959999999999997\n",
      "Pred: 0.8600000000000001\n",
      "Delta: -0.009382277187499954\n",
      "Weights: [ 0.1  0.2 -0.1]\n",
      "Weight_Deltas [-0.07974936 -0.00609848 -0.01125873]\n",
      "Grad [-2.38  -0.182 -0.336]\n",
      "-----------------------------\n",
      "Iteration: 2\n",
      "Error 0.004558275224999999\n",
      "Pred: 1.067515\n",
      "Delta: -0.009382277187499954\n",
      "Weights: [ 0.1238   0.20182 -0.09664]\n",
      "Weight_Deltas [-0.07974936 -0.00609848 -0.01125873]\n",
      "Grad [1.147755  0.0877695 0.162036 ]\n",
      "-----------------------------\n",
      "Iteration: 3\n",
      "Error 0.0010600955625943344\n",
      "Pred: 0.9674408912499999\n",
      "Delta: -0.009382277187499954\n",
      "Weights: [ 0.11232245  0.2009423  -0.09826036]\n",
      "Weight_Deltas [-0.07974936 -0.00609848 -0.01125873]\n",
      "Grad [-0.55350485 -0.04232684 -0.07814186]\n",
      "-----------------------------\n"
     ]
    }
   ],
   "source": [
    "import numpy as np\n",
    "\n",
    "\n",
    "def neural_network(weights : np.array, input : np.array):\n",
    "    return input.dot(weights)\n",
    "\n",
    "\n",
    "\n",
    "weights = np.array([0.1, 0.2, -0.1])\n",
    "toes = np.array([8.5, 9.5, 9.9, 9.0])\n",
    "wlrec = np.array([0.65, 0.8, 0.8, 0.9])\n",
    "nfans = np.array([1.2, 1.3, 0.5, 1.0])\n",
    "input = np.array([toes[0], wlrec[0], nfans[0]])\n",
    "answer = np.array([1, 1, 0, 1])\n",
    "true = answer[0]\n",
    "alpha = 0.01\n",
    "for i in range(3):\n",
    "    pred = neural_network(weights, input)\n",
    "    error = (pred - true) ** 2\n",
    "    grad = np.array([\n",
    "        2 * (input.dot(weights) - true) * input[0],\n",
    "        2 * (input.dot(weights) - true) * input[1],\n",
    "        2 * (input.dot(weights) - true) * input[2]\n",
    "    ])\n",
    "    print(\"Iteration:\", i + 1)\n",
    "    print(\"Error\", error)\n",
    "    print(\"Pred:\", pred)\n",
    "    print(\"Delta:\", delta)\n",
    "    print(\"Weights:\", weights)\n",
    "    print(\"Weight_Deltas\", weight_deltas)\n",
    "    print(\"Grad\", grad)\n",
    "    print(\"-----------------------------\")\n",
    "    weights -= grad * alpha"
   ]
  },
  {
   "cell_type": "code",
   "execution_count": null,
   "id": "940554a3",
   "metadata": {},
   "outputs": [],
   "source": []
  }
 ],
 "metadata": {
  "kernelspec": {
   "display_name": "Python 3 (ipykernel)",
   "language": "python",
   "name": "python3"
  },
  "language_info": {
   "codemirror_mode": {
    "name": "ipython",
    "version": 3
   },
   "file_extension": ".py",
   "mimetype": "text/x-python",
   "name": "python",
   "nbconvert_exporter": "python",
   "pygments_lexer": "ipython3",
   "version": "3.9.12"
  }
 },
 "nbformat": 4,
 "nbformat_minor": 5
}
